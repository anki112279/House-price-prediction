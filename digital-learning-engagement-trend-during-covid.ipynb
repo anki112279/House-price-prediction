{
 "cells": [
  {
   "cell_type": "code",
   "execution_count": 1,
   "id": "73b0a522",
   "metadata": {
    "_cell_guid": "b1076dfc-b9ad-4769-8c92-a6c4dae69d19",
    "_kg_hide-input": true,
    "_kg_hide-output": true,
    "_uuid": "8f2839f25d086af736a60e9eeb907d3b93b6e0e5",
    "execution": {
     "iopub.execute_input": "2021-09-03T21:33:53.897273Z",
     "iopub.status.busy": "2021-09-03T21:33:53.896497Z",
     "iopub.status.idle": "2021-09-03T21:33:56.369219Z",
     "shell.execute_reply": "2021-09-03T21:33:56.368528Z",
     "shell.execute_reply.started": "2021-09-03T21:06:54.151437Z"
    },
    "papermill": {
     "duration": 2.510318,
     "end_time": "2021-09-03T21:33:56.369391",
     "exception": false,
     "start_time": "2021-09-03T21:33:53.859073",
     "status": "completed"
    },
    "tags": []
   },
   "outputs": [
    {
     "name": "stdout",
     "output_type": "stream",
     "text": [
      "/kaggle/input/learnplatform-covid19-impact-on-digital-learning/products_info.csv\n",
      "/kaggle/input/learnplatform-covid19-impact-on-digital-learning/README.md\n",
      "/kaggle/input/learnplatform-covid19-impact-on-digital-learning/districts_info.csv\n",
      "/kaggle/input/learnplatform-covid19-impact-on-digital-learning/engagement_data/6345.csv\n",
      "/kaggle/input/learnplatform-covid19-impact-on-digital-learning/engagement_data/9812.csv\n",
      "/kaggle/input/learnplatform-covid19-impact-on-digital-learning/engagement_data/2339.csv\n",
      "/kaggle/input/learnplatform-covid19-impact-on-digital-learning/engagement_data/5404.csv\n",
      "/kaggle/input/learnplatform-covid19-impact-on-digital-learning/engagement_data/5150.csv\n",
      "/kaggle/input/learnplatform-covid19-impact-on-digital-learning/engagement_data/1624.csv\n",
      "/kaggle/input/learnplatform-covid19-impact-on-digital-learning/engagement_data/3188.csv\n",
      "/kaggle/input/learnplatform-covid19-impact-on-digital-learning/engagement_data/7964.csv\n",
      "/kaggle/input/learnplatform-covid19-impact-on-digital-learning/engagement_data/2165.csv\n",
      "/kaggle/input/learnplatform-covid19-impact-on-digital-learning/engagement_data/9463.csv\n",
      "/kaggle/input/learnplatform-covid19-impact-on-digital-learning/engagement_data/9303.csv\n",
      "/kaggle/input/learnplatform-covid19-impact-on-digital-learning/engagement_data/2321.csv\n",
      "/kaggle/input/learnplatform-covid19-impact-on-digital-learning/engagement_data/8937.csv\n",
      "/kaggle/input/learnplatform-covid19-impact-on-digital-learning/engagement_data/1179.csv\n",
      "/kaggle/input/learnplatform-covid19-impact-on-digital-learning/engagement_data/7352.csv\n",
      "/kaggle/input/learnplatform-covid19-impact-on-digital-learning/engagement_data/1000.csv\n",
      "/kaggle/input/learnplatform-covid19-impact-on-digital-learning/engagement_data/6055.csv\n",
      "/kaggle/input/learnplatform-covid19-impact-on-digital-learning/engagement_data/1142.csv\n",
      "/kaggle/input/learnplatform-covid19-impact-on-digital-learning/engagement_data/6584.csv\n",
      "/kaggle/input/learnplatform-covid19-impact-on-digital-learning/engagement_data/9043.csv\n",
      "/kaggle/input/learnplatform-covid19-impact-on-digital-learning/engagement_data/5231.csv\n",
      "/kaggle/input/learnplatform-covid19-impact-on-digital-learning/engagement_data/3864.csv\n",
      "/kaggle/input/learnplatform-covid19-impact-on-digital-learning/engagement_data/1044.csv\n",
      "/kaggle/input/learnplatform-covid19-impact-on-digital-learning/engagement_data/1450.csv\n",
      "/kaggle/input/learnplatform-covid19-impact-on-digital-learning/engagement_data/3550.csv\n",
      "/kaggle/input/learnplatform-covid19-impact-on-digital-learning/engagement_data/6721.csv\n",
      "/kaggle/input/learnplatform-covid19-impact-on-digital-learning/engagement_data/2517.csv\n",
      "/kaggle/input/learnplatform-covid19-impact-on-digital-learning/engagement_data/2106.csv\n",
      "/kaggle/input/learnplatform-covid19-impact-on-digital-learning/engagement_data/4314.csv\n",
      "/kaggle/input/learnplatform-covid19-impact-on-digital-learning/engagement_data/7975.csv\n",
      "/kaggle/input/learnplatform-covid19-impact-on-digital-learning/engagement_data/6762.csv\n",
      "/kaggle/input/learnplatform-covid19-impact-on-digital-learning/engagement_data/2685.csv\n",
      "/kaggle/input/learnplatform-covid19-impact-on-digital-learning/engagement_data/7767.csv\n",
      "/kaggle/input/learnplatform-covid19-impact-on-digital-learning/engagement_data/4668.csv\n",
      "/kaggle/input/learnplatform-covid19-impact-on-digital-learning/engagement_data/4550.csv\n",
      "/kaggle/input/learnplatform-covid19-impact-on-digital-learning/engagement_data/1039.csv\n",
      "/kaggle/input/learnplatform-covid19-impact-on-digital-learning/engagement_data/9553.csv\n",
      "/kaggle/input/learnplatform-covid19-impact-on-digital-learning/engagement_data/7308.csv\n",
      "/kaggle/input/learnplatform-covid19-impact-on-digital-learning/engagement_data/2285.csv\n",
      "/kaggle/input/learnplatform-covid19-impact-on-digital-learning/engagement_data/3390.csv\n",
      "/kaggle/input/learnplatform-covid19-impact-on-digital-learning/engagement_data/3248.csv\n",
      "/kaggle/input/learnplatform-covid19-impact-on-digital-learning/engagement_data/4629.csv\n",
      "/kaggle/input/learnplatform-covid19-impact-on-digital-learning/engagement_data/1131.csv\n",
      "/kaggle/input/learnplatform-covid19-impact-on-digital-learning/engagement_data/5422.csv\n",
      "/kaggle/input/learnplatform-covid19-impact-on-digital-learning/engagement_data/7980.csv\n",
      "/kaggle/input/learnplatform-covid19-impact-on-digital-learning/engagement_data/4516.csv\n",
      "/kaggle/input/learnplatform-covid19-impact-on-digital-learning/engagement_data/8103.csv\n",
      "/kaggle/input/learnplatform-covid19-impact-on-digital-learning/engagement_data/8815.csv\n",
      "/kaggle/input/learnplatform-covid19-impact-on-digital-learning/engagement_data/5987.csv\n",
      "/kaggle/input/learnplatform-covid19-impact-on-digital-learning/engagement_data/5006.csv\n",
      "/kaggle/input/learnplatform-covid19-impact-on-digital-learning/engagement_data/3080.csv\n",
      "/kaggle/input/learnplatform-covid19-impact-on-digital-learning/engagement_data/2779.csv\n",
      "/kaggle/input/learnplatform-covid19-impact-on-digital-learning/engagement_data/2130.csv\n",
      "/kaggle/input/learnplatform-covid19-impact-on-digital-learning/engagement_data/3692.csv\n",
      "/kaggle/input/learnplatform-covid19-impact-on-digital-learning/engagement_data/3670.csv\n",
      "/kaggle/input/learnplatform-covid19-impact-on-digital-learning/engagement_data/7675.csv\n",
      "/kaggle/input/learnplatform-covid19-impact-on-digital-learning/engagement_data/4051.csv\n",
      "/kaggle/input/learnplatform-covid19-impact-on-digital-learning/engagement_data/7457.csv\n",
      "/kaggle/input/learnplatform-covid19-impact-on-digital-learning/engagement_data/4749.csv\n",
      "/kaggle/input/learnplatform-covid19-impact-on-digital-learning/engagement_data/8017.csv\n",
      "/kaggle/input/learnplatform-covid19-impact-on-digital-learning/engagement_data/4937.csv\n",
      "/kaggle/input/learnplatform-covid19-impact-on-digital-learning/engagement_data/8515.csv\n",
      "/kaggle/input/learnplatform-covid19-impact-on-digital-learning/engagement_data/1536.csv\n",
      "/kaggle/input/learnplatform-covid19-impact-on-digital-learning/engagement_data/5890.csv\n",
      "/kaggle/input/learnplatform-covid19-impact-on-digital-learning/engagement_data/2017.csv\n",
      "/kaggle/input/learnplatform-covid19-impact-on-digital-learning/engagement_data/9140.csv\n",
      "/kaggle/input/learnplatform-covid19-impact-on-digital-learning/engagement_data/1470.csv\n",
      "/kaggle/input/learnplatform-covid19-impact-on-digital-learning/engagement_data/8784.csv\n",
      "/kaggle/input/learnplatform-covid19-impact-on-digital-learning/engagement_data/6512.csv\n",
      "/kaggle/input/learnplatform-covid19-impact-on-digital-learning/engagement_data/6165.csv\n",
      "/kaggle/input/learnplatform-covid19-impact-on-digital-learning/engagement_data/3301.csv\n",
      "/kaggle/input/learnplatform-covid19-impact-on-digital-learning/engagement_data/8425.csv\n",
      "/kaggle/input/learnplatform-covid19-impact-on-digital-learning/engagement_data/4348.csv\n",
      "/kaggle/input/learnplatform-covid19-impact-on-digital-learning/engagement_data/7086.csv\n",
      "/kaggle/input/learnplatform-covid19-impact-on-digital-learning/engagement_data/2201.csv\n",
      "/kaggle/input/learnplatform-covid19-impact-on-digital-learning/engagement_data/8328.csv\n",
      "/kaggle/input/learnplatform-covid19-impact-on-digital-learning/engagement_data/8702.csv\n",
      "/kaggle/input/learnplatform-covid19-impact-on-digital-learning/engagement_data/4666.csv\n",
      "/kaggle/input/learnplatform-covid19-impact-on-digital-learning/engagement_data/6066.csv\n",
      "/kaggle/input/learnplatform-covid19-impact-on-digital-learning/engagement_data/9899.csv\n",
      "/kaggle/input/learnplatform-covid19-impact-on-digital-learning/engagement_data/1857.csv\n",
      "/kaggle/input/learnplatform-covid19-impact-on-digital-learning/engagement_data/2729.csv\n",
      "/kaggle/input/learnplatform-covid19-impact-on-digital-learning/engagement_data/3640.csv\n",
      "/kaggle/input/learnplatform-covid19-impact-on-digital-learning/engagement_data/7164.csv\n",
      "/kaggle/input/learnplatform-covid19-impact-on-digital-learning/engagement_data/7614.csv\n",
      "/kaggle/input/learnplatform-covid19-impact-on-digital-learning/engagement_data/1877.csv\n",
      "/kaggle/input/learnplatform-covid19-impact-on-digital-learning/engagement_data/3772.csv\n",
      "/kaggle/input/learnplatform-covid19-impact-on-digital-learning/engagement_data/5903.csv\n",
      "/kaggle/input/learnplatform-covid19-impact-on-digital-learning/engagement_data/6665.csv\n",
      "/kaggle/input/learnplatform-covid19-impact-on-digital-learning/engagement_data/1965.csv\n",
      "/kaggle/input/learnplatform-covid19-impact-on-digital-learning/engagement_data/3160.csv\n",
      "/kaggle/input/learnplatform-covid19-impact-on-digital-learning/engagement_data/6049.csv\n",
      "/kaggle/input/learnplatform-covid19-impact-on-digital-learning/engagement_data/3710.csv\n",
      "/kaggle/input/learnplatform-covid19-impact-on-digital-learning/engagement_data/1444.csv\n",
      "/kaggle/input/learnplatform-covid19-impact-on-digital-learning/engagement_data/3471.csv\n",
      "/kaggle/input/learnplatform-covid19-impact-on-digital-learning/engagement_data/2991.csv\n",
      "/kaggle/input/learnplatform-covid19-impact-on-digital-learning/engagement_data/4183.csv\n",
      "/kaggle/input/learnplatform-covid19-impact-on-digital-learning/engagement_data/8433.csv\n",
      "/kaggle/input/learnplatform-covid19-impact-on-digital-learning/engagement_data/6194.csv\n",
      "/kaggle/input/learnplatform-covid19-impact-on-digital-learning/engagement_data/3412.csv\n",
      "/kaggle/input/learnplatform-covid19-impact-on-digital-learning/engagement_data/9478.csv\n",
      "/kaggle/input/learnplatform-covid19-impact-on-digital-learning/engagement_data/1904.csv\n",
      "/kaggle/input/learnplatform-covid19-impact-on-digital-learning/engagement_data/8539.csv\n",
      "/kaggle/input/learnplatform-covid19-impact-on-digital-learning/engagement_data/5600.csv\n",
      "/kaggle/input/learnplatform-covid19-impact-on-digital-learning/engagement_data/2209.csv\n",
      "/kaggle/input/learnplatform-covid19-impact-on-digital-learning/engagement_data/9778.csv\n",
      "/kaggle/input/learnplatform-covid19-impact-on-digital-learning/engagement_data/3371.csv\n",
      "/kaggle/input/learnplatform-covid19-impact-on-digital-learning/engagement_data/7387.csv\n",
      "/kaggle/input/learnplatform-covid19-impact-on-digital-learning/engagement_data/8902.csv\n",
      "/kaggle/input/learnplatform-covid19-impact-on-digital-learning/engagement_data/6046.csv\n",
      "/kaggle/input/learnplatform-covid19-impact-on-digital-learning/engagement_data/3266.csv\n",
      "/kaggle/input/learnplatform-covid19-impact-on-digital-learning/engagement_data/9536.csv\n",
      "/kaggle/input/learnplatform-covid19-impact-on-digital-learning/engagement_data/8127.csv\n",
      "/kaggle/input/learnplatform-covid19-impact-on-digital-learning/engagement_data/9120.csv\n",
      "/kaggle/input/learnplatform-covid19-impact-on-digital-learning/engagement_data/3558.csv\n",
      "/kaggle/input/learnplatform-covid19-impact-on-digital-learning/engagement_data/5524.csv\n",
      "/kaggle/input/learnplatform-covid19-impact-on-digital-learning/engagement_data/7741.csv\n",
      "/kaggle/input/learnplatform-covid19-impact-on-digital-learning/engagement_data/1204.csv\n",
      "/kaggle/input/learnplatform-covid19-impact-on-digital-learning/engagement_data/9839.csv\n",
      "/kaggle/input/learnplatform-covid19-impact-on-digital-learning/engagement_data/4775.csv\n",
      "/kaggle/input/learnplatform-covid19-impact-on-digital-learning/engagement_data/4373.csv\n",
      "/kaggle/input/learnplatform-covid19-impact-on-digital-learning/engagement_data/2074.csv\n",
      "/kaggle/input/learnplatform-covid19-impact-on-digital-learning/engagement_data/8685.csv\n",
      "/kaggle/input/learnplatform-covid19-impact-on-digital-learning/engagement_data/4921.csv\n",
      "/kaggle/input/learnplatform-covid19-impact-on-digital-learning/engagement_data/1772.csv\n",
      "/kaggle/input/learnplatform-covid19-impact-on-digital-learning/engagement_data/6250.csv\n",
      "/kaggle/input/learnplatform-covid19-impact-on-digital-learning/engagement_data/1791.csv\n",
      "/kaggle/input/learnplatform-covid19-impact-on-digital-learning/engagement_data/8723.csv\n",
      "/kaggle/input/learnplatform-covid19-impact-on-digital-learning/engagement_data/5042.csv\n",
      "/kaggle/input/learnplatform-covid19-impact-on-digital-learning/engagement_data/2172.csv\n",
      "/kaggle/input/learnplatform-covid19-impact-on-digital-learning/engagement_data/3580.csv\n",
      "/kaggle/input/learnplatform-covid19-impact-on-digital-learning/engagement_data/3936.csv\n",
      "/kaggle/input/learnplatform-covid19-impact-on-digital-learning/engagement_data/8520.csv\n",
      "/kaggle/input/learnplatform-covid19-impact-on-digital-learning/engagement_data/3314.csv\n",
      "/kaggle/input/learnplatform-covid19-impact-on-digital-learning/engagement_data/6998.csv\n",
      "/kaggle/input/learnplatform-covid19-impact-on-digital-learning/engagement_data/8184.csv\n",
      "/kaggle/input/learnplatform-covid19-impact-on-digital-learning/engagement_data/7660.csv\n",
      "/kaggle/input/learnplatform-covid19-impact-on-digital-learning/engagement_data/8076.csv\n",
      "/kaggle/input/learnplatform-covid19-impact-on-digital-learning/engagement_data/2598.csv\n",
      "/kaggle/input/learnplatform-covid19-impact-on-digital-learning/engagement_data/2940.csv\n",
      "/kaggle/input/learnplatform-covid19-impact-on-digital-learning/engagement_data/1052.csv\n",
      "/kaggle/input/learnplatform-covid19-impact-on-digital-learning/engagement_data/5057.csv\n",
      "/kaggle/input/learnplatform-covid19-impact-on-digital-learning/engagement_data/2567.csv\n",
      "/kaggle/input/learnplatform-covid19-impact-on-digital-learning/engagement_data/7723.csv\n",
      "/kaggle/input/learnplatform-covid19-impact-on-digital-learning/engagement_data/1558.csv\n",
      "/kaggle/input/learnplatform-covid19-impact-on-digital-learning/engagement_data/1742.csv\n",
      "/kaggle/input/learnplatform-covid19-impact-on-digital-learning/engagement_data/3959.csv\n",
      "/kaggle/input/learnplatform-covid19-impact-on-digital-learning/engagement_data/4683.csv\n",
      "/kaggle/input/learnplatform-covid19-impact-on-digital-learning/engagement_data/1705.csv\n",
      "/kaggle/input/learnplatform-covid19-impact-on-digital-learning/engagement_data/4083.csv\n",
      "/kaggle/input/learnplatform-covid19-impact-on-digital-learning/engagement_data/2872.csv\n",
      "/kaggle/input/learnplatform-covid19-impact-on-digital-learning/engagement_data/6774.csv\n",
      "/kaggle/input/learnplatform-covid19-impact-on-digital-learning/engagement_data/4029.csv\n",
      "/kaggle/input/learnplatform-covid19-impact-on-digital-learning/engagement_data/8796.csv\n",
      "/kaggle/input/learnplatform-covid19-impact-on-digital-learning/engagement_data/4569.csv\n",
      "/kaggle/input/learnplatform-covid19-impact-on-digital-learning/engagement_data/5510.csv\n",
      "/kaggle/input/learnplatform-covid19-impact-on-digital-learning/engagement_data/8256.csv\n",
      "/kaggle/input/learnplatform-covid19-impact-on-digital-learning/engagement_data/4203.csv\n",
      "/kaggle/input/learnplatform-covid19-impact-on-digital-learning/engagement_data/7177.csv\n",
      "/kaggle/input/learnplatform-covid19-impact-on-digital-learning/engagement_data/9729.csv\n",
      "/kaggle/input/learnplatform-covid19-impact-on-digital-learning/engagement_data/9537.csv\n",
      "/kaggle/input/learnplatform-covid19-impact-on-digital-learning/engagement_data/8556.csv\n",
      "/kaggle/input/learnplatform-covid19-impact-on-digital-learning/engagement_data/8160.csv\n",
      "/kaggle/input/learnplatform-covid19-impact-on-digital-learning/engagement_data/2441.csv\n",
      "/kaggle/input/learnplatform-covid19-impact-on-digital-learning/engagement_data/6144.csv\n",
      "/kaggle/input/learnplatform-covid19-impact-on-digital-learning/engagement_data/3732.csv\n",
      "/kaggle/input/learnplatform-covid19-impact-on-digital-learning/engagement_data/9007.csv\n",
      "/kaggle/input/learnplatform-covid19-impact-on-digital-learning/engagement_data/7858.csv\n",
      "/kaggle/input/learnplatform-covid19-impact-on-digital-learning/engagement_data/4031.csv\n",
      "/kaggle/input/learnplatform-covid19-impact-on-digital-learning/engagement_data/4936.csv\n",
      "/kaggle/input/learnplatform-covid19-impact-on-digital-learning/engagement_data/2238.csv\n",
      "/kaggle/input/learnplatform-covid19-impact-on-digital-learning/engagement_data/5257.csv\n",
      "/kaggle/input/learnplatform-covid19-impact-on-digital-learning/engagement_data/4602.csv\n",
      "/kaggle/input/learnplatform-covid19-impact-on-digital-learning/engagement_data/7752.csv\n",
      "/kaggle/input/learnplatform-covid19-impact-on-digital-learning/engagement_data/5527.csv\n",
      "/kaggle/input/learnplatform-covid19-impact-on-digital-learning/engagement_data/7305.csv\n",
      "/kaggle/input/learnplatform-covid19-impact-on-digital-learning/engagement_data/2257.csv\n",
      "/kaggle/input/learnplatform-covid19-impact-on-digital-learning/engagement_data/2439.csv\n",
      "/kaggle/input/learnplatform-covid19-impact-on-digital-learning/engagement_data/9927.csv\n",
      "/kaggle/input/learnplatform-covid19-impact-on-digital-learning/engagement_data/4929.csv\n",
      "/kaggle/input/learnplatform-covid19-impact-on-digital-learning/engagement_data/1270.csv\n",
      "/kaggle/input/learnplatform-covid19-impact-on-digital-learning/engagement_data/4591.csv\n",
      "/kaggle/input/learnplatform-covid19-impact-on-digital-learning/engagement_data/6919.csv\n",
      "/kaggle/input/learnplatform-covid19-impact-on-digital-learning/engagement_data/1549.csv\n",
      "/kaggle/input/learnplatform-covid19-impact-on-digital-learning/engagement_data/9230.csv\n",
      "/kaggle/input/learnplatform-covid19-impact-on-digital-learning/engagement_data/7829.csv\n",
      "/kaggle/input/learnplatform-covid19-impact-on-digital-learning/engagement_data/4520.csv\n",
      "/kaggle/input/learnplatform-covid19-impact-on-digital-learning/engagement_data/5934.csv\n",
      "/kaggle/input/learnplatform-covid19-impact-on-digital-learning/engagement_data/1584.csv\n",
      "/kaggle/input/learnplatform-covid19-impact-on-digital-learning/engagement_data/4744.csv\n",
      "/kaggle/input/learnplatform-covid19-impact-on-digital-learning/engagement_data/4949.csv\n",
      "/kaggle/input/learnplatform-covid19-impact-on-digital-learning/engagement_data/7541.csv\n",
      "/kaggle/input/learnplatform-covid19-impact-on-digital-learning/engagement_data/6577.csv\n",
      "/kaggle/input/learnplatform-covid19-impact-on-digital-learning/engagement_data/8748.csv\n",
      "/kaggle/input/learnplatform-covid19-impact-on-digital-learning/engagement_data/5380.csv\n",
      "/kaggle/input/learnplatform-covid19-impact-on-digital-learning/engagement_data/7798.csv\n",
      "/kaggle/input/learnplatform-covid19-impact-on-digital-learning/engagement_data/2956.csv\n",
      "/kaggle/input/learnplatform-covid19-impact-on-digital-learning/engagement_data/9589.csv\n",
      "/kaggle/input/learnplatform-covid19-impact-on-digital-learning/engagement_data/3668.csv\n",
      "/kaggle/input/learnplatform-covid19-impact-on-digital-learning/engagement_data/2549.csv\n",
      "/kaggle/input/learnplatform-covid19-impact-on-digital-learning/engagement_data/2060.csv\n",
      "/kaggle/input/learnplatform-covid19-impact-on-digital-learning/engagement_data/4808.csv\n",
      "/kaggle/input/learnplatform-covid19-impact-on-digital-learning/engagement_data/5604.csv\n",
      "/kaggle/input/learnplatform-covid19-impact-on-digital-learning/engagement_data/5970.csv\n",
      "/kaggle/input/learnplatform-covid19-impact-on-digital-learning/engagement_data/3228.csv\n",
      "/kaggle/input/learnplatform-covid19-impact-on-digital-learning/engagement_data/6104.csv\n",
      "/kaggle/input/learnplatform-covid19-impact-on-digital-learning/engagement_data/4165.csv\n",
      "/kaggle/input/learnplatform-covid19-impact-on-digital-learning/engagement_data/1570.csv\n",
      "/kaggle/input/learnplatform-covid19-impact-on-digital-learning/engagement_data/3322.csv\n",
      "/kaggle/input/learnplatform-covid19-impact-on-digital-learning/engagement_data/8884.csv\n",
      "/kaggle/input/learnplatform-covid19-impact-on-digital-learning/engagement_data/3986.csv\n",
      "/kaggle/input/learnplatform-covid19-impact-on-digital-learning/engagement_data/3222.csv\n",
      "/kaggle/input/learnplatform-covid19-impact-on-digital-learning/engagement_data/9357.csv\n",
      "/kaggle/input/learnplatform-covid19-impact-on-digital-learning/engagement_data/9515.csv\n",
      "/kaggle/input/learnplatform-covid19-impact-on-digital-learning/engagement_data/2601.csv\n",
      "/kaggle/input/learnplatform-covid19-impact-on-digital-learning/engagement_data/1324.csv\n",
      "/kaggle/input/learnplatform-covid19-impact-on-digital-learning/engagement_data/1712.csv\n",
      "/kaggle/input/learnplatform-covid19-impact-on-digital-learning/engagement_data/7342.csv\n",
      "/kaggle/input/learnplatform-covid19-impact-on-digital-learning/engagement_data/5479.csv\n",
      "/kaggle/input/learnplatform-covid19-impact-on-digital-learning/engagement_data/2870.csv\n",
      "/kaggle/input/learnplatform-covid19-impact-on-digital-learning/engagement_data/8845.csv\n",
      "/kaggle/input/learnplatform-covid19-impact-on-digital-learning/engagement_data/2167.csv\n",
      "/kaggle/input/learnplatform-covid19-impact-on-digital-learning/engagement_data/6131.csv\n",
      "/kaggle/input/learnplatform-covid19-impact-on-digital-learning/engagement_data/7970.csv\n",
      "/kaggle/input/learnplatform-covid19-impact-on-digital-learning/engagement_data/6640.csv\n",
      "/kaggle/input/learnplatform-covid19-impact-on-digital-learning/engagement_data/2393.csv\n",
      "/kaggle/input/learnplatform-covid19-impact-on-digital-learning/engagement_data/3393.csv\n",
      "/kaggle/input/learnplatform-covid19-impact-on-digital-learning/engagement_data/5627.csv\n",
      "/kaggle/input/learnplatform-covid19-impact-on-digital-learning/engagement_data/6418.csv\n",
      "/kaggle/input/learnplatform-covid19-impact-on-digital-learning/engagement_data/4408.csv\n",
      "/kaggle/input/learnplatform-covid19-impact-on-digital-learning/engagement_data/5882.csv\n",
      "/kaggle/input/learnplatform-covid19-impact-on-digital-learning/engagement_data/7785.csv\n",
      "/kaggle/input/learnplatform-covid19-impact-on-digital-learning/engagement_data/5802.csv\n"
     ]
    }
   ],
   "source": [
    "# This Python 3 environment comes with many helpful analytics libraries installed\n",
    "# It is defined by the kaggle/python Docker image: https://github.com/kaggle/docker-python\n",
    "# For example, here's several helpful packages to load\n",
    "\n",
    "import numpy as np # linear algebra\n",
    "import pandas as pd # data processing, CSV file I/O (e.g. pd.read_csv)\n",
    "import matplotlib.pyplot as plt\n",
    "import seaborn as sns\n",
    "import plotly.graph_objects as go\n",
    "import plotly.offline as py\n",
    "import plotly.express as px\n",
    "from plotly.offline import iplot\n",
    "import plotly.io as pio\n",
    "\n",
    "from plotly.subplots import make_subplots\n",
    "from plotly.graph_objs import Scatter, Layout, Figure, Data, Stream, YAxis, Marker, Bar, Line\n",
    "\n",
    "import warnings\n",
    "warnings.simplefilter(action='ignore', category=Warning)\n",
    "\n",
    "# Input data files are available in the read-only \"../input/\" directory\n",
    "# For example, running this (by clicking run or pressing Shift+Enter) will list all files under the input directory\n",
    "\n",
    "import os\n",
    "for dirname, _, filenames in os.walk('/kaggle/input'):\n",
    "    for filename in filenames:\n",
    "        print(os.path.join(dirname, filename))\n",
    "\n",
    "# You can write up to 20GB to the current directory (/kaggle/working/) that gets preserved as output when you create a version using \"Save & Run All\" \n",
    "# You can also write temporary files to /kaggle/temp/, but they won't be saved outside of the current session"
   ]
  },
  {
   "cell_type": "code",
   "execution_count": 2,
   "id": "20129b9c",
   "metadata": {
    "execution": {
     "iopub.execute_input": "2021-09-03T21:33:56.432083Z",
     "iopub.status.busy": "2021-09-03T21:33:56.431337Z",
     "iopub.status.idle": "2021-09-03T21:33:56.457054Z",
     "shell.execute_reply": "2021-09-03T21:33:56.456501Z",
     "shell.execute_reply.started": "2021-09-03T21:06:57.127065Z"
    },
    "papermill": {
     "duration": 0.062982,
     "end_time": "2021-09-03T21:33:56.457197",
     "exception": false,
     "start_time": "2021-09-03T21:33:56.394215",
     "status": "completed"
    },
    "tags": []
   },
   "outputs": [],
   "source": [
    "#Reading files\n",
    "file_path_product = '/kaggle/input/learnplatform-covid19-impact-on-digital-learning/products_info.csv'\n",
    "file_path_district = '/kaggle/input/learnplatform-covid19-impact-on-digital-learning/districts_info.csv'\n",
    "df_product = pd.read_csv(file_path_product, encoding='utf8')\n",
    "df_district = pd.read_csv(file_path_district, encoding='utf8')"
   ]
  },
  {
   "cell_type": "markdown",
   "id": "660754b2",
   "metadata": {
    "papermill": {
     "duration": 0.025038,
     "end_time": "2021-09-03T21:33:56.504896",
     "exception": false,
     "start_time": "2021-09-03T21:33:56.479858",
     "status": "completed"
    },
    "tags": []
   },
   "source": []
  },
  {
   "cell_type": "markdown",
   "id": "e4e55953",
   "metadata": {
    "papermill": {
     "duration": 0.022104,
     "end_time": "2021-09-03T21:33:56.550819",
     "exception": false,
     "start_time": "2021-09-03T21:33:56.528715",
     "status": "completed"
    },
    "tags": []
   },
   "source": [
    "A helper fuction that pulls out all the engagement data related files by itering through the engagement data folder. "
   ]
  },
  {
   "cell_type": "code",
   "execution_count": 3,
   "id": "63a1c435",
   "metadata": {
    "execution": {
     "iopub.execute_input": "2021-09-03T21:33:56.601141Z",
     "iopub.status.busy": "2021-09-03T21:33:56.600151Z",
     "iopub.status.idle": "2021-09-03T21:33:56.602622Z",
     "shell.execute_reply": "2021-09-03T21:33:56.603099Z",
     "shell.execute_reply.started": "2021-09-03T21:06:57.166465Z"
    },
    "papermill": {
     "duration": 0.030838,
     "end_time": "2021-09-03T21:33:56.603260",
     "exception": false,
     "start_time": "2021-09-03T21:33:56.572422",
     "status": "completed"
    },
    "tags": []
   },
   "outputs": [],
   "source": [
    "#Creting a list of all filenames\n",
    "def append_filename():\n",
    "    filename_list = []\n",
    "    for filenames in os.walk('../input/learnplatform-covid19-impact-on-digital-learning/engagement_data/'):\n",
    "        for filename in filenames:\n",
    "            for csv in filename:\n",
    "                if csv.find('.csv') >0:\n",
    "                    filename_list.append(csv)\n",
    "    return filename_list\n"
   ]
  },
  {
   "cell_type": "markdown",
   "id": "d0179be9",
   "metadata": {
    "papermill": {
     "duration": 0.021454,
     "end_time": "2021-09-03T21:33:56.647107",
     "exception": false,
     "start_time": "2021-09-03T21:33:56.625653",
     "status": "completed"
    },
    "tags": []
   },
   "source": [
    "Below function creates a combined files fo all the engagement data. "
   ]
  },
  {
   "cell_type": "code",
   "execution_count": 4,
   "id": "4990f20d",
   "metadata": {
    "execution": {
     "iopub.execute_input": "2021-09-03T21:33:56.694578Z",
     "iopub.status.busy": "2021-09-03T21:33:56.693601Z",
     "iopub.status.idle": "2021-09-03T21:33:56.698987Z",
     "shell.execute_reply": "2021-09-03T21:33:56.699429Z",
     "shell.execute_reply.started": "2021-09-03T21:06:57.175116Z"
    },
    "papermill": {
     "duration": 0.030628,
     "end_time": "2021-09-03T21:33:56.699632",
     "exception": false,
     "start_time": "2021-09-03T21:33:56.669004",
     "status": "completed"
    },
    "tags": []
   },
   "outputs": [],
   "source": [
    "#Creating a function to join all files together\n",
    "def append_engagement_data():\n",
    "    columns = ['time', 'lp_id', 'pct_access', 'engagement_index']\n",
    "    df_master = pd.DataFrame(columns=columns)\n",
    "    filename_list = append_filename()\n",
    "    for filename in filename_list:\n",
    "        file_path = f'../input/learnplatform-covid19-impact-on-digital-learning/engagement_data/{filename}'\n",
    "        df_to_append = pd.read_csv(file_path, encoding='utf8')\n",
    "        df_master = df_master.append(df_to_append)\n",
    "    return df_master"
   ]
  },
  {
   "cell_type": "code",
   "execution_count": 5,
   "id": "00f8a5d5",
   "metadata": {
    "execution": {
     "iopub.execute_input": "2021-09-03T21:33:56.748139Z",
     "iopub.status.busy": "2021-09-03T21:33:56.747175Z",
     "iopub.status.idle": "2021-09-03T21:38:46.005130Z",
     "shell.execute_reply": "2021-09-03T21:38:46.004513Z",
     "shell.execute_reply.started": "2021-09-03T21:06:57.192470Z"
    },
    "papermill": {
     "duration": 289.283556,
     "end_time": "2021-09-03T21:38:46.005311",
     "exception": false,
     "start_time": "2021-09-03T21:33:56.721755",
     "status": "completed"
    },
    "tags": []
   },
   "outputs": [],
   "source": [
    "#Calling the function to create a master dataframe\n",
    "df_master = append_engagement_data()\n"
   ]
  },
  {
   "cell_type": "code",
   "execution_count": 6,
   "id": "6774ea11",
   "metadata": {
    "execution": {
     "iopub.execute_input": "2021-09-03T21:38:48.192048Z",
     "iopub.status.busy": "2021-09-03T21:38:48.191293Z",
     "iopub.status.idle": "2021-09-03T21:38:52.723554Z",
     "shell.execute_reply": "2021-09-03T21:38:52.722841Z",
     "shell.execute_reply.started": "2021-09-03T21:12:47.675676Z"
    },
    "papermill": {
     "duration": 6.693701,
     "end_time": "2021-09-03T21:38:52.723716",
     "exception": false,
     "start_time": "2021-09-03T21:38:46.030015",
     "status": "completed"
    },
    "tags": []
   },
   "outputs": [],
   "source": [
    "#Removing all NaN values\n",
    "df_master.dropna(inplace = True)"
   ]
  },
  {
   "cell_type": "code",
   "execution_count": 7,
   "id": "39f46fc9",
   "metadata": {
    "execution": {
     "iopub.execute_input": "2021-09-03T21:38:52.782021Z",
     "iopub.status.busy": "2021-09-03T21:38:52.780839Z",
     "iopub.status.idle": "2021-09-03T21:38:52.785748Z",
     "shell.execute_reply": "2021-09-03T21:38:52.786373Z",
     "shell.execute_reply.started": "2021-09-03T21:31:51.743410Z"
    },
    "papermill": {
     "duration": 0.040899,
     "end_time": "2021-09-03T21:38:52.786581",
     "exception": false,
     "start_time": "2021-09-03T21:38:52.745682",
     "status": "completed"
    },
    "tags": []
   },
   "outputs": [
    {
     "data": {
      "text/plain": [
       "Index(['time', 'lp_id', 'pct_access', 'engagement_index'], dtype='object')"
      ]
     },
     "execution_count": 7,
     "metadata": {},
     "output_type": "execute_result"
    }
   ],
   "source": [
    "df_master.columns"
   ]
  },
  {
   "cell_type": "code",
   "execution_count": 8,
   "id": "fbc66f35",
   "metadata": {
    "execution": {
     "iopub.execute_input": "2021-09-03T21:38:52.848661Z",
     "iopub.status.busy": "2021-09-03T21:38:52.848010Z",
     "iopub.status.idle": "2021-09-03T21:39:03.829439Z",
     "shell.execute_reply": "2021-09-03T21:39:03.830235Z",
     "shell.execute_reply.started": "2021-09-03T21:12:55.124036Z"
    },
    "papermill": {
     "duration": 11.013798,
     "end_time": "2021-09-03T21:39:03.830507",
     "exception": false,
     "start_time": "2021-09-03T21:38:52.816709",
     "status": "completed"
    },
    "tags": []
   },
   "outputs": [
    {
     "name": "stdout",
     "output_type": "stream",
     "text": [
      "Collecting klib\r\n",
      "  Downloading klib-0.2.0-py3-none-any.whl (28 kB)\r\n",
      "Requirement already satisfied: scipy>=1.0.0 in /opt/conda/lib/python3.7/site-packages (from klib) (1.6.3)\r\n",
      "Requirement already satisfied: pandas>=1.1 in /opt/conda/lib/python3.7/site-packages (from klib) (1.2.4)\r\n",
      "Requirement already satisfied: scikit-learn>=0.23 in /opt/conda/lib/python3.7/site-packages (from klib) (0.23.2)\r\n",
      "Requirement already satisfied: numpy>=1.15.4 in /opt/conda/lib/python3.7/site-packages (from klib) (1.19.5)\r\n",
      "Requirement already satisfied: seaborn>=0.11.1 in /opt/conda/lib/python3.7/site-packages (from klib) (0.11.1)\r\n",
      "Requirement already satisfied: matplotlib>=3.0.3 in /opt/conda/lib/python3.7/site-packages (from klib) (3.4.2)\r\n",
      "Requirement already satisfied: pyparsing>=2.2.1 in /opt/conda/lib/python3.7/site-packages (from matplotlib>=3.0.3->klib) (2.4.7)\r\n",
      "Requirement already satisfied: python-dateutil>=2.7 in /opt/conda/lib/python3.7/site-packages (from matplotlib>=3.0.3->klib) (2.8.1)\r\n",
      "Requirement already satisfied: pillow>=6.2.0 in /opt/conda/lib/python3.7/site-packages (from matplotlib>=3.0.3->klib) (8.2.0)\r\n",
      "Requirement already satisfied: kiwisolver>=1.0.1 in /opt/conda/lib/python3.7/site-packages (from matplotlib>=3.0.3->klib) (1.3.1)\r\n",
      "Requirement already satisfied: cycler>=0.10 in /opt/conda/lib/python3.7/site-packages (from matplotlib>=3.0.3->klib) (0.10.0)\r\n",
      "Requirement already satisfied: six in /opt/conda/lib/python3.7/site-packages (from cycler>=0.10->matplotlib>=3.0.3->klib) (1.15.0)\r\n",
      "Requirement already satisfied: pytz>=2017.3 in /opt/conda/lib/python3.7/site-packages (from pandas>=1.1->klib) (2021.1)\r\n",
      "Requirement already satisfied: threadpoolctl>=2.0.0 in /opt/conda/lib/python3.7/site-packages (from scikit-learn>=0.23->klib) (2.1.0)\r\n",
      "Requirement already satisfied: joblib>=0.11 in /opt/conda/lib/python3.7/site-packages (from scikit-learn>=0.23->klib) (1.0.1)\r\n",
      "Installing collected packages: klib\r\n",
      "Successfully installed klib-0.2.0\r\n",
      "\u001b[33mWARNING: Running pip as root will break packages and permissions. You should install packages reliably by using venv: https://pip.pypa.io/warnings/venv\u001b[0m\r\n"
     ]
    }
   ],
   "source": [
    "#Using klib for EDA\n",
    "!pip install klib\n",
    "import sys\n",
    "\n",
    "sys.path.append('../input/klib-library-python')\n",
    "import klib"
   ]
  },
  {
   "cell_type": "code",
   "execution_count": 9,
   "id": "5b9da09e",
   "metadata": {
    "execution": {
     "iopub.execute_input": "2021-09-03T21:39:03.896514Z",
     "iopub.status.busy": "2021-09-03T21:39:03.895661Z",
     "iopub.status.idle": "2021-09-03T21:39:08.307953Z",
     "shell.execute_reply": "2021-09-03T21:39:08.307379Z",
     "shell.execute_reply.started": "2021-09-03T21:13:05.605734Z"
    },
    "papermill": {
     "duration": 4.44533,
     "end_time": "2021-09-03T21:39:08.308106",
     "exception": false,
     "start_time": "2021-09-03T21:39:03.862776",
     "status": "completed"
    },
    "tags": []
   },
   "outputs": [
    {
     "name": "stdout",
     "output_type": "stream",
     "text": [
      "Large dataset detected, using 10000 random samples for the plots. Summary statistics are still based on the entire dataset.\n"
     ]
    },
    {
     "data": {
      "image/png": "[encoded data removed]",
      "text/plain": [
       "<Figure size 900x180 with 1 Axes>"
      ]
     },
     "metadata": {
      "needs_background": "light"
     },
     "output_type": "display_data"
    }
   ],
   "source": [
    "klib.dist_plot(df_master['engagement_index']);"
   ]
  },
  {
   "cell_type": "code",
   "execution_count": 10,
   "id": "854d76e3",
   "metadata": {
    "execution": {
     "iopub.execute_input": "2021-09-03T21:39:08.366765Z",
     "iopub.status.busy": "2021-09-03T21:39:08.366059Z",
     "iopub.status.idle": "2021-09-03T21:39:08.384042Z",
     "shell.execute_reply": "2021-09-03T21:39:08.384555Z",
     "shell.execute_reply.started": "2021-09-03T21:13:11.400498Z"
    },
    "papermill": {
     "duration": 0.04991,
     "end_time": "2021-09-03T21:39:08.384750",
     "exception": false,
     "start_time": "2021-09-03T21:39:08.334840",
     "status": "completed"
    },
    "tags": []
   },
   "outputs": [
    {
     "data": {
      "text/html": [
       "<div>\n",
       "<style scoped>\n",
       "    .dataframe tbody tr th:only-of-type {\n",
       "        vertical-align: middle;\n",
       "    }\n",
       "\n",
       "    .dataframe tbody tr th {\n",
       "        vertical-align: top;\n",
       "    }\n",
       "\n",
       "    .dataframe thead th {\n",
       "        text-align: right;\n",
       "    }\n",
       "</style>\n",
       "<table border=\"1\" class=\"dataframe\">\n",
       "  <thead>\n",
       "    <tr style=\"text-align: right;\">\n",
       "      <th></th>\n",
       "      <th>LP ID</th>\n",
       "      <th>URL</th>\n",
       "      <th>Product Name</th>\n",
       "      <th>Provider/Company Name</th>\n",
       "      <th>Sector(s)</th>\n",
       "      <th>Primary Essential Function</th>\n",
       "    </tr>\n",
       "  </thead>\n",
       "  <tbody>\n",
       "    <tr>\n",
       "      <th>0</th>\n",
       "      <td>13117</td>\n",
       "      <td>https://www.splashmath.com</td>\n",
       "      <td>SplashLearn</td>\n",
       "      <td>StudyPad Inc.</td>\n",
       "      <td>PreK-12</td>\n",
       "      <td>LC - Digital Learning Platforms</td>\n",
       "    </tr>\n",
       "    <tr>\n",
       "      <th>1</th>\n",
       "      <td>66933</td>\n",
       "      <td>https://abcmouse.com</td>\n",
       "      <td>ABCmouse.com</td>\n",
       "      <td>Age of Learning, Inc</td>\n",
       "      <td>PreK-12</td>\n",
       "      <td>LC - Digital Learning Platforms</td>\n",
       "    </tr>\n",
       "    <tr>\n",
       "      <th>2</th>\n",
       "      <td>50479</td>\n",
       "      <td>https://www.abcya.com</td>\n",
       "      <td>ABCya!</td>\n",
       "      <td>ABCya.com, LLC</td>\n",
       "      <td>PreK-12</td>\n",
       "      <td>LC - Sites, Resources &amp; Reference - Games &amp; Si...</td>\n",
       "    </tr>\n",
       "    <tr>\n",
       "      <th>3</th>\n",
       "      <td>92993</td>\n",
       "      <td>http://www.aleks.com/</td>\n",
       "      <td>ALEKS</td>\n",
       "      <td>McGraw-Hill PreK-12</td>\n",
       "      <td>PreK-12; Higher Ed</td>\n",
       "      <td>LC - Digital Learning Platforms</td>\n",
       "    </tr>\n",
       "    <tr>\n",
       "      <th>4</th>\n",
       "      <td>73104</td>\n",
       "      <td>https://www.achieve3000.com/</td>\n",
       "      <td>Achieve3000</td>\n",
       "      <td>Achieve3000</td>\n",
       "      <td>PreK-12</td>\n",
       "      <td>LC - Digital Learning Platforms</td>\n",
       "    </tr>\n",
       "    <tr>\n",
       "      <th>5</th>\n",
       "      <td>37600</td>\n",
       "      <td>http://www.activelylearn.com/</td>\n",
       "      <td>Actively Learn</td>\n",
       "      <td>Actively Learn</td>\n",
       "      <td>PreK-12</td>\n",
       "      <td>LC - Digital Learning Platforms</td>\n",
       "    </tr>\n",
       "    <tr>\n",
       "      <th>6</th>\n",
       "      <td>18663</td>\n",
       "      <td>http://www.adaptedmind.com</td>\n",
       "      <td>AdaptedMind</td>\n",
       "      <td>GloWorld</td>\n",
       "      <td>PreK-12</td>\n",
       "      <td>LC - Digital Learning Platforms</td>\n",
       "    </tr>\n",
       "    <tr>\n",
       "      <th>7</th>\n",
       "      <td>65131</td>\n",
       "      <td>http://www.amplify.com/</td>\n",
       "      <td>Amplify</td>\n",
       "      <td>Amplify Education, Inc.</td>\n",
       "      <td>PreK-12</td>\n",
       "      <td>LC - Courseware &amp; Textbooks</td>\n",
       "    </tr>\n",
       "    <tr>\n",
       "      <th>8</th>\n",
       "      <td>26491</td>\n",
       "      <td>http://www.answers.com/</td>\n",
       "      <td>Answers</td>\n",
       "      <td>Answers</td>\n",
       "      <td>PreK-12; Higher Ed</td>\n",
       "      <td>LC - Study Tools - Q&amp;A</td>\n",
       "    </tr>\n",
       "    <tr>\n",
       "      <th>9</th>\n",
       "      <td>56441</td>\n",
       "      <td>http://www.audible.com</td>\n",
       "      <td>Audible</td>\n",
       "      <td>Amazon.com, Inc.</td>\n",
       "      <td>PreK-12; Higher Ed; Corporate</td>\n",
       "      <td>LC - Sites, Resources &amp; Reference - Streaming ...</td>\n",
       "    </tr>\n",
       "  </tbody>\n",
       "</table>\n",
       "</div>"
      ],
      "text/plain": [
       "   LP ID                            URL    Product Name  \\\n",
       "0  13117     https://www.splashmath.com     SplashLearn   \n",
       "1  66933           https://abcmouse.com    ABCmouse.com   \n",
       "2  50479          https://www.abcya.com          ABCya!   \n",
       "3  92993          http://www.aleks.com/           ALEKS   \n",
       "4  73104   https://www.achieve3000.com/     Achieve3000   \n",
       "5  37600  http://www.activelylearn.com/  Actively Learn   \n",
       "6  18663     http://www.adaptedmind.com     AdaptedMind   \n",
       "7  65131        http://www.amplify.com/         Amplify   \n",
       "8  26491        http://www.answers.com/         Answers   \n",
       "9  56441         http://www.audible.com         Audible   \n",
       "\n",
       "     Provider/Company Name                      Sector(s)  \\\n",
       "0            StudyPad Inc.                        PreK-12   \n",
       "1    Age of Learning, Inc                         PreK-12   \n",
       "2           ABCya.com, LLC                        PreK-12   \n",
       "3      McGraw-Hill PreK-12             PreK-12; Higher Ed   \n",
       "4              Achieve3000                        PreK-12   \n",
       "5           Actively Learn                        PreK-12   \n",
       "6                 GloWorld                        PreK-12   \n",
       "7  Amplify Education, Inc.                        PreK-12   \n",
       "8                  Answers             PreK-12; Higher Ed   \n",
       "9        Amazon.com, Inc.   PreK-12; Higher Ed; Corporate   \n",
       "\n",
       "                          Primary Essential Function  \n",
       "0                    LC - Digital Learning Platforms  \n",
       "1                    LC - Digital Learning Platforms  \n",
       "2  LC - Sites, Resources & Reference - Games & Si...  \n",
       "3                    LC - Digital Learning Platforms  \n",
       "4                    LC - Digital Learning Platforms  \n",
       "5                    LC - Digital Learning Platforms  \n",
       "6                    LC - Digital Learning Platforms  \n",
       "7                        LC - Courseware & Textbooks  \n",
       "8                             LC - Study Tools - Q&A  \n",
       "9  LC - Sites, Resources & Reference - Streaming ...  "
      ]
     },
     "execution_count": 10,
     "metadata": {},
     "output_type": "execute_result"
    }
   ],
   "source": [
    "#EDA for df_product\n",
    "df_product.head(10)\n"
   ]
  },
  {
   "cell_type": "code",
   "execution_count": 11,
   "id": "d827c116",
   "metadata": {
    "execution": {
     "iopub.execute_input": "2021-09-03T21:39:08.443904Z",
     "iopub.status.busy": "2021-09-03T21:39:08.443201Z",
     "iopub.status.idle": "2021-09-03T21:39:08.452304Z",
     "shell.execute_reply": "2021-09-03T21:39:08.451646Z",
     "shell.execute_reply.started": "2021-09-03T21:13:11.425929Z"
    },
    "papermill": {
     "duration": 0.038442,
     "end_time": "2021-09-03T21:39:08.452447",
     "exception": false,
     "start_time": "2021-09-03T21:39:08.414005",
     "status": "completed"
    },
    "tags": []
   },
   "outputs": [
    {
     "data": {
      "text/plain": [
       "district_id                   0\n",
       "state                        57\n",
       "locale                       57\n",
       "pct_black/hispanic           57\n",
       "pct_free/reduced             85\n",
       "county_connections_ratio     71\n",
       "pp_total_raw                115\n",
       "dtype: int64"
      ]
     },
     "execution_count": 11,
     "metadata": {},
     "output_type": "execute_result"
    }
   ],
   "source": [
    "df_dist = df_district.copy()\n",
    "df_dist.isnull().sum()\n"
   ]
  },
  {
   "cell_type": "code",
   "execution_count": 12,
   "id": "65d9b7f8",
   "metadata": {
    "execution": {
     "iopub.execute_input": "2021-09-03T21:39:08.520949Z",
     "iopub.status.busy": "2021-09-03T21:39:08.520257Z",
     "iopub.status.idle": "2021-09-03T21:39:08.524055Z",
     "shell.execute_reply": "2021-09-03T21:39:08.524518Z",
     "shell.execute_reply.started": "2021-09-03T21:13:11.441599Z"
    },
    "papermill": {
     "duration": 0.04564,
     "end_time": "2021-09-03T21:39:08.524703",
     "exception": false,
     "start_time": "2021-09-03T21:39:08.479063",
     "status": "completed"
    },
    "tags": []
   },
   "outputs": [
    {
     "data": {
      "text/html": [
       "<div>\n",
       "<style scoped>\n",
       "    .dataframe tbody tr th:only-of-type {\n",
       "        vertical-align: middle;\n",
       "    }\n",
       "\n",
       "    .dataframe tbody tr th {\n",
       "        vertical-align: top;\n",
       "    }\n",
       "\n",
       "    .dataframe thead th {\n",
       "        text-align: right;\n",
       "    }\n",
       "</style>\n",
       "<table border=\"1\" class=\"dataframe\">\n",
       "  <thead>\n",
       "    <tr style=\"text-align: right;\">\n",
       "      <th></th>\n",
       "      <th>district_id</th>\n",
       "      <th>state</th>\n",
       "      <th>locale</th>\n",
       "      <th>pct_black/hispanic</th>\n",
       "      <th>pct_free/reduced</th>\n",
       "      <th>county_connections_ratio</th>\n",
       "      <th>pp_total_raw</th>\n",
       "    </tr>\n",
       "  </thead>\n",
       "  <tbody>\n",
       "    <tr>\n",
       "      <th>0</th>\n",
       "      <td>8815</td>\n",
       "      <td>Illinois</td>\n",
       "      <td>Suburb</td>\n",
       "      <td>[0, 0.2[</td>\n",
       "      <td>[0, 0.2[</td>\n",
       "      <td>[0.18, 1[</td>\n",
       "      <td>[14000, 16000[</td>\n",
       "    </tr>\n",
       "    <tr>\n",
       "      <th>1</th>\n",
       "      <td>2685</td>\n",
       "      <td>NaN</td>\n",
       "      <td>NaN</td>\n",
       "      <td>NaN</td>\n",
       "      <td>NaN</td>\n",
       "      <td>NaN</td>\n",
       "      <td>NaN</td>\n",
       "    </tr>\n",
       "    <tr>\n",
       "      <th>2</th>\n",
       "      <td>4921</td>\n",
       "      <td>Utah</td>\n",
       "      <td>Suburb</td>\n",
       "      <td>[0, 0.2[</td>\n",
       "      <td>[0.2, 0.4[</td>\n",
       "      <td>[0.18, 1[</td>\n",
       "      <td>[6000, 8000[</td>\n",
       "    </tr>\n",
       "    <tr>\n",
       "      <th>3</th>\n",
       "      <td>3188</td>\n",
       "      <td>NaN</td>\n",
       "      <td>NaN</td>\n",
       "      <td>NaN</td>\n",
       "      <td>NaN</td>\n",
       "      <td>NaN</td>\n",
       "      <td>NaN</td>\n",
       "    </tr>\n",
       "    <tr>\n",
       "      <th>4</th>\n",
       "      <td>2238</td>\n",
       "      <td>NaN</td>\n",
       "      <td>NaN</td>\n",
       "      <td>NaN</td>\n",
       "      <td>NaN</td>\n",
       "      <td>NaN</td>\n",
       "      <td>NaN</td>\n",
       "    </tr>\n",
       "    <tr>\n",
       "      <th>5</th>\n",
       "      <td>5987</td>\n",
       "      <td>Wisconsin</td>\n",
       "      <td>Suburb</td>\n",
       "      <td>[0, 0.2[</td>\n",
       "      <td>[0, 0.2[</td>\n",
       "      <td>[0.18, 1[</td>\n",
       "      <td>[10000, 12000[</td>\n",
       "    </tr>\n",
       "    <tr>\n",
       "      <th>6</th>\n",
       "      <td>3710</td>\n",
       "      <td>Utah</td>\n",
       "      <td>Suburb</td>\n",
       "      <td>[0, 0.2[</td>\n",
       "      <td>[0.4, 0.6[</td>\n",
       "      <td>[0.18, 1[</td>\n",
       "      <td>[6000, 8000[</td>\n",
       "    </tr>\n",
       "    <tr>\n",
       "      <th>7</th>\n",
       "      <td>7177</td>\n",
       "      <td>North Carolina</td>\n",
       "      <td>Suburb</td>\n",
       "      <td>[0.2, 0.4[</td>\n",
       "      <td>[0.2, 0.4[</td>\n",
       "      <td>[0.18, 1[</td>\n",
       "      <td>[8000, 10000[</td>\n",
       "    </tr>\n",
       "    <tr>\n",
       "      <th>8</th>\n",
       "      <td>9812</td>\n",
       "      <td>Utah</td>\n",
       "      <td>Suburb</td>\n",
       "      <td>[0, 0.2[</td>\n",
       "      <td>[0.2, 0.4[</td>\n",
       "      <td>[0.18, 1[</td>\n",
       "      <td>[6000, 8000[</td>\n",
       "    </tr>\n",
       "    <tr>\n",
       "      <th>9</th>\n",
       "      <td>6584</td>\n",
       "      <td>North Carolina</td>\n",
       "      <td>Rural</td>\n",
       "      <td>[0.4, 0.6[</td>\n",
       "      <td>[0.6, 0.8[</td>\n",
       "      <td>[0.18, 1[</td>\n",
       "      <td>[8000, 10000[</td>\n",
       "    </tr>\n",
       "  </tbody>\n",
       "</table>\n",
       "</div>"
      ],
      "text/plain": [
       "   district_id           state  locale pct_black/hispanic pct_free/reduced  \\\n",
       "0         8815        Illinois  Suburb           [0, 0.2[         [0, 0.2[   \n",
       "1         2685             NaN     NaN                NaN              NaN   \n",
       "2         4921            Utah  Suburb           [0, 0.2[       [0.2, 0.4[   \n",
       "3         3188             NaN     NaN                NaN              NaN   \n",
       "4         2238             NaN     NaN                NaN              NaN   \n",
       "5         5987       Wisconsin  Suburb           [0, 0.2[         [0, 0.2[   \n",
       "6         3710            Utah  Suburb           [0, 0.2[       [0.4, 0.6[   \n",
       "7         7177  North Carolina  Suburb         [0.2, 0.4[       [0.2, 0.4[   \n",
       "8         9812            Utah  Suburb           [0, 0.2[       [0.2, 0.4[   \n",
       "9         6584  North Carolina   Rural         [0.4, 0.6[       [0.6, 0.8[   \n",
       "\n",
       "  county_connections_ratio    pp_total_raw  \n",
       "0                [0.18, 1[  [14000, 16000[  \n",
       "1                      NaN             NaN  \n",
       "2                [0.18, 1[    [6000, 8000[  \n",
       "3                      NaN             NaN  \n",
       "4                      NaN             NaN  \n",
       "5                [0.18, 1[  [10000, 12000[  \n",
       "6                [0.18, 1[    [6000, 8000[  \n",
       "7                [0.18, 1[   [8000, 10000[  \n",
       "8                [0.18, 1[    [6000, 8000[  \n",
       "9                [0.18, 1[   [8000, 10000[  "
      ]
     },
     "execution_count": 12,
     "metadata": {},
     "output_type": "execute_result"
    }
   ],
   "source": [
    "df_dist.head(10)"
   ]
  },
  {
   "cell_type": "code",
   "execution_count": 13,
   "id": "d5765bff",
   "metadata": {
    "execution": {
     "iopub.execute_input": "2021-09-03T21:39:08.582110Z",
     "iopub.status.busy": "2021-09-03T21:39:08.581434Z",
     "iopub.status.idle": "2021-09-03T21:39:08.593627Z",
     "shell.execute_reply": "2021-09-03T21:39:08.592971Z",
     "shell.execute_reply.started": "2021-09-03T21:13:11.464504Z"
    },
    "papermill": {
     "duration": 0.04188,
     "end_time": "2021-09-03T21:39:08.593768",
     "exception": false,
     "start_time": "2021-09-03T21:39:08.551888",
     "status": "completed"
    },
    "tags": []
   },
   "outputs": [
    {
     "data": {
      "text/plain": [
       "district_id                  0\n",
       "state                        0\n",
       "locale                       0\n",
       "pct_black/hispanic           0\n",
       "pct_free/reduced            28\n",
       "county_connections_ratio    14\n",
       "pp_total_raw                58\n",
       "dtype: int64"
      ]
     },
     "execution_count": 13,
     "metadata": {},
     "output_type": "execute_result"
    }
   ],
   "source": [
    "df_dist = df_dist.dropna(subset=['state'])\n",
    "df_dist.isnull().sum()\n"
   ]
  },
  {
   "cell_type": "markdown",
   "id": "9cc0fe40",
   "metadata": {
    "papermill": {
     "duration": 0.028497,
     "end_time": "2021-09-03T21:39:08.649848",
     "exception": false,
     "start_time": "2021-09-03T21:39:08.621351",
     "status": "completed"
    },
    "tags": []
   },
   "source": []
  },
  {
   "cell_type": "markdown",
   "id": "5a7ef645",
   "metadata": {
    "papermill": {
     "duration": 0.029119,
     "end_time": "2021-09-03T21:39:08.709250",
     "exception": false,
     "start_time": "2021-09-03T21:39:08.680131",
     "status": "completed"
    },
    "tags": []
   },
   "source": [
    "Columns ['pct_black/hispanic','pct_free/reduced', 'county_connections_ratio', 'pp_total_raw'] has unncessary brackets. Those needs to be removed. "
   ]
  },
  {
   "cell_type": "code",
   "execution_count": 14,
   "id": "3058d688",
   "metadata": {
    "execution": {
     "iopub.execute_input": "2021-09-03T21:39:08.776014Z",
     "iopub.status.busy": "2021-09-03T21:39:08.775289Z",
     "iopub.status.idle": "2021-09-03T21:39:08.778569Z",
     "shell.execute_reply": "2021-09-03T21:39:08.777997Z",
     "shell.execute_reply.started": "2021-09-03T21:13:11.483381Z"
    },
    "papermill": {
     "duration": 0.041701,
     "end_time": "2021-09-03T21:39:08.778726",
     "exception": false,
     "start_time": "2021-09-03T21:39:08.737025",
     "status": "completed"
    },
    "tags": []
   },
   "outputs": [],
   "source": [
    "df_dist['pct_black/hispanic'] = df_dist['pct_black/hispanic'].apply(lambda x: str(x)[1:-1])\n",
    "df_dist['pct_free/reduced'] = df_dist['pct_free/reduced'].apply(lambda x: str(x)[1:-1])\n",
    "df_dist['county_connections_ratio'] = df_dist['county_connections_ratio'].apply(lambda x: str(x)[1:-1])\n",
    "df_dist['pp_total_raw'] = df_dist['pp_total_raw'].apply(lambda x: str(x)[1:-1])\n"
   ]
  },
  {
   "cell_type": "code",
   "execution_count": 15,
   "id": "a02d21e8",
   "metadata": {
    "execution": {
     "iopub.execute_input": "2021-09-03T21:39:08.852795Z",
     "iopub.status.busy": "2021-09-03T21:39:08.852040Z",
     "iopub.status.idle": "2021-09-03T21:39:08.855675Z",
     "shell.execute_reply": "2021-09-03T21:39:08.855150Z",
     "shell.execute_reply.started": "2021-09-03T21:13:11.498758Z"
    },
    "papermill": {
     "duration": 0.049495,
     "end_time": "2021-09-03T21:39:08.855818",
     "exception": false,
     "start_time": "2021-09-03T21:39:08.806323",
     "status": "completed"
    },
    "tags": []
   },
   "outputs": [],
   "source": [
    "df_dist[[\"pct_black\",\"pct_hispanic\" ]]= df_dist[\"pct_black/hispanic\"].str.split(\",\", n = 1, expand = True) \n",
    "df_dist[[\"pct_free\",\"pct_reduced\" ]]= df_dist[\"pct_free/reduced\"].str.split(\",\", n = 1, expand = True) \n",
    "df_dist[[\"ratio_min\",\"ratio_ave\"]]= df_dist[\"county_connections_ratio\"].str.split(\",\", n = 1, expand = True) \n",
    "df_dist[[\"pp_total_min\",\"pp_total_max\" ]]= df_dist[\"pp_total_raw\"].str.split(\",\", n = 1, expand = True) "
   ]
  },
  {
   "cell_type": "code",
   "execution_count": 16,
   "id": "738958ec",
   "metadata": {
    "execution": {
     "iopub.execute_input": "2021-09-03T21:39:08.936251Z",
     "iopub.status.busy": "2021-09-03T21:39:08.935333Z",
     "iopub.status.idle": "2021-09-03T21:39:08.939669Z",
     "shell.execute_reply": "2021-09-03T21:39:08.940172Z",
     "shell.execute_reply.started": "2021-09-03T21:13:11.523967Z"
    },
    "papermill": {
     "duration": 0.056781,
     "end_time": "2021-09-03T21:39:08.940342",
     "exception": false,
     "start_time": "2021-09-03T21:39:08.883561",
     "status": "completed"
    },
    "tags": []
   },
   "outputs": [
    {
     "data": {
      "text/html": [
       "<div>\n",
       "<style scoped>\n",
       "    .dataframe tbody tr th:only-of-type {\n",
       "        vertical-align: middle;\n",
       "    }\n",
       "\n",
       "    .dataframe tbody tr th {\n",
       "        vertical-align: top;\n",
       "    }\n",
       "\n",
       "    .dataframe thead th {\n",
       "        text-align: right;\n",
       "    }\n",
       "</style>\n",
       "<table border=\"1\" class=\"dataframe\">\n",
       "  <thead>\n",
       "    <tr style=\"text-align: right;\">\n",
       "      <th></th>\n",
       "      <th>district_id</th>\n",
       "      <th>state</th>\n",
       "      <th>locale</th>\n",
       "      <th>pct_black/hispanic</th>\n",
       "      <th>pct_free/reduced</th>\n",
       "      <th>county_connections_ratio</th>\n",
       "      <th>pp_total_raw</th>\n",
       "      <th>pct_black</th>\n",
       "      <th>pct_hispanic</th>\n",
       "      <th>pct_free</th>\n",
       "      <th>pct_reduced</th>\n",
       "      <th>ratio_min</th>\n",
       "      <th>ratio_ave</th>\n",
       "      <th>pp_total_min</th>\n",
       "      <th>pp_total_max</th>\n",
       "    </tr>\n",
       "  </thead>\n",
       "  <tbody>\n",
       "    <tr>\n",
       "      <th>0</th>\n",
       "      <td>8815</td>\n",
       "      <td>Illinois</td>\n",
       "      <td>Suburb</td>\n",
       "      <td>0, 0.2</td>\n",
       "      <td>0, 0.2</td>\n",
       "      <td>0.18, 1</td>\n",
       "      <td>14000, 16000</td>\n",
       "      <td>0</td>\n",
       "      <td>0.2</td>\n",
       "      <td>0</td>\n",
       "      <td>0.2</td>\n",
       "      <td>0.18</td>\n",
       "      <td>1</td>\n",
       "      <td>14000</td>\n",
       "      <td>16000</td>\n",
       "    </tr>\n",
       "    <tr>\n",
       "      <th>2</th>\n",
       "      <td>4921</td>\n",
       "      <td>Utah</td>\n",
       "      <td>Suburb</td>\n",
       "      <td>0, 0.2</td>\n",
       "      <td>0.2, 0.4</td>\n",
       "      <td>0.18, 1</td>\n",
       "      <td>6000, 8000</td>\n",
       "      <td>0</td>\n",
       "      <td>0.2</td>\n",
       "      <td>0.2</td>\n",
       "      <td>0.4</td>\n",
       "      <td>0.18</td>\n",
       "      <td>1</td>\n",
       "      <td>6000</td>\n",
       "      <td>8000</td>\n",
       "    </tr>\n",
       "    <tr>\n",
       "      <th>5</th>\n",
       "      <td>5987</td>\n",
       "      <td>Wisconsin</td>\n",
       "      <td>Suburb</td>\n",
       "      <td>0, 0.2</td>\n",
       "      <td>0, 0.2</td>\n",
       "      <td>0.18, 1</td>\n",
       "      <td>10000, 12000</td>\n",
       "      <td>0</td>\n",
       "      <td>0.2</td>\n",
       "      <td>0</td>\n",
       "      <td>0.2</td>\n",
       "      <td>0.18</td>\n",
       "      <td>1</td>\n",
       "      <td>10000</td>\n",
       "      <td>12000</td>\n",
       "    </tr>\n",
       "    <tr>\n",
       "      <th>6</th>\n",
       "      <td>3710</td>\n",
       "      <td>Utah</td>\n",
       "      <td>Suburb</td>\n",
       "      <td>0, 0.2</td>\n",
       "      <td>0.4, 0.6</td>\n",
       "      <td>0.18, 1</td>\n",
       "      <td>6000, 8000</td>\n",
       "      <td>0</td>\n",
       "      <td>0.2</td>\n",
       "      <td>0.4</td>\n",
       "      <td>0.6</td>\n",
       "      <td>0.18</td>\n",
       "      <td>1</td>\n",
       "      <td>6000</td>\n",
       "      <td>8000</td>\n",
       "    </tr>\n",
       "    <tr>\n",
       "      <th>7</th>\n",
       "      <td>7177</td>\n",
       "      <td>North Carolina</td>\n",
       "      <td>Suburb</td>\n",
       "      <td>0.2, 0.4</td>\n",
       "      <td>0.2, 0.4</td>\n",
       "      <td>0.18, 1</td>\n",
       "      <td>8000, 10000</td>\n",
       "      <td>0.2</td>\n",
       "      <td>0.4</td>\n",
       "      <td>0.2</td>\n",
       "      <td>0.4</td>\n",
       "      <td>0.18</td>\n",
       "      <td>1</td>\n",
       "      <td>8000</td>\n",
       "      <td>10000</td>\n",
       "    </tr>\n",
       "    <tr>\n",
       "      <th>8</th>\n",
       "      <td>9812</td>\n",
       "      <td>Utah</td>\n",
       "      <td>Suburb</td>\n",
       "      <td>0, 0.2</td>\n",
       "      <td>0.2, 0.4</td>\n",
       "      <td>0.18, 1</td>\n",
       "      <td>6000, 8000</td>\n",
       "      <td>0</td>\n",
       "      <td>0.2</td>\n",
       "      <td>0.2</td>\n",
       "      <td>0.4</td>\n",
       "      <td>0.18</td>\n",
       "      <td>1</td>\n",
       "      <td>6000</td>\n",
       "      <td>8000</td>\n",
       "    </tr>\n",
       "    <tr>\n",
       "      <th>9</th>\n",
       "      <td>6584</td>\n",
       "      <td>North Carolina</td>\n",
       "      <td>Rural</td>\n",
       "      <td>0.4, 0.6</td>\n",
       "      <td>0.6, 0.8</td>\n",
       "      <td>0.18, 1</td>\n",
       "      <td>8000, 10000</td>\n",
       "      <td>0.4</td>\n",
       "      <td>0.6</td>\n",
       "      <td>0.6</td>\n",
       "      <td>0.8</td>\n",
       "      <td>0.18</td>\n",
       "      <td>1</td>\n",
       "      <td>8000</td>\n",
       "      <td>10000</td>\n",
       "    </tr>\n",
       "    <tr>\n",
       "      <th>10</th>\n",
       "      <td>1044</td>\n",
       "      <td>Missouri</td>\n",
       "      <td>Suburb</td>\n",
       "      <td>0, 0.2</td>\n",
       "      <td>0, 0.2</td>\n",
       "      <td>a</td>\n",
       "      <td>10000, 12000</td>\n",
       "      <td>0</td>\n",
       "      <td>0.2</td>\n",
       "      <td>0</td>\n",
       "      <td>0.2</td>\n",
       "      <td>a</td>\n",
       "      <td>None</td>\n",
       "      <td>10000</td>\n",
       "      <td>12000</td>\n",
       "    </tr>\n",
       "    <tr>\n",
       "      <th>11</th>\n",
       "      <td>7457</td>\n",
       "      <td>Washington</td>\n",
       "      <td>City</td>\n",
       "      <td>0.4, 0.6</td>\n",
       "      <td>0.4, 0.6</td>\n",
       "      <td>0.18, 1</td>\n",
       "      <td>12000, 14000</td>\n",
       "      <td>0.4</td>\n",
       "      <td>0.6</td>\n",
       "      <td>0.4</td>\n",
       "      <td>0.6</td>\n",
       "      <td>0.18</td>\n",
       "      <td>1</td>\n",
       "      <td>12000</td>\n",
       "      <td>14000</td>\n",
       "    </tr>\n",
       "    <tr>\n",
       "      <th>12</th>\n",
       "      <td>1904</td>\n",
       "      <td>Connecticut</td>\n",
       "      <td>Rural</td>\n",
       "      <td>0, 0.2</td>\n",
       "      <td>0, 0.2</td>\n",
       "      <td>0.18, 1</td>\n",
       "      <td>a</td>\n",
       "      <td>0</td>\n",
       "      <td>0.2</td>\n",
       "      <td>0</td>\n",
       "      <td>0.2</td>\n",
       "      <td>0.18</td>\n",
       "      <td>1</td>\n",
       "      <td>a</td>\n",
       "      <td>None</td>\n",
       "    </tr>\n",
       "  </tbody>\n",
       "</table>\n",
       "</div>"
      ],
      "text/plain": [
       "    district_id           state  locale pct_black/hispanic pct_free/reduced  \\\n",
       "0          8815        Illinois  Suburb             0, 0.2           0, 0.2   \n",
       "2          4921            Utah  Suburb             0, 0.2         0.2, 0.4   \n",
       "5          5987       Wisconsin  Suburb             0, 0.2           0, 0.2   \n",
       "6          3710            Utah  Suburb             0, 0.2         0.4, 0.6   \n",
       "7          7177  North Carolina  Suburb           0.2, 0.4         0.2, 0.4   \n",
       "8          9812            Utah  Suburb             0, 0.2         0.2, 0.4   \n",
       "9          6584  North Carolina   Rural           0.4, 0.6         0.6, 0.8   \n",
       "10         1044        Missouri  Suburb             0, 0.2           0, 0.2   \n",
       "11         7457      Washington    City           0.4, 0.6         0.4, 0.6   \n",
       "12         1904     Connecticut   Rural             0, 0.2           0, 0.2   \n",
       "\n",
       "   county_connections_ratio  pp_total_raw pct_black pct_hispanic pct_free  \\\n",
       "0                   0.18, 1  14000, 16000         0          0.2        0   \n",
       "2                   0.18, 1    6000, 8000         0          0.2      0.2   \n",
       "5                   0.18, 1  10000, 12000         0          0.2        0   \n",
       "6                   0.18, 1    6000, 8000         0          0.2      0.4   \n",
       "7                   0.18, 1   8000, 10000       0.2          0.4      0.2   \n",
       "8                   0.18, 1    6000, 8000         0          0.2      0.2   \n",
       "9                   0.18, 1   8000, 10000       0.4          0.6      0.6   \n",
       "10                        a  10000, 12000         0          0.2        0   \n",
       "11                  0.18, 1  12000, 14000       0.4          0.6      0.4   \n",
       "12                  0.18, 1             a         0          0.2        0   \n",
       "\n",
       "   pct_reduced ratio_min ratio_ave pp_total_min pp_total_max  \n",
       "0          0.2      0.18         1        14000        16000  \n",
       "2          0.4      0.18         1         6000         8000  \n",
       "5          0.2      0.18         1        10000        12000  \n",
       "6          0.6      0.18         1         6000         8000  \n",
       "7          0.4      0.18         1         8000        10000  \n",
       "8          0.4      0.18         1         6000         8000  \n",
       "9          0.8      0.18         1         8000        10000  \n",
       "10         0.2         a      None        10000        12000  \n",
       "11         0.6      0.18         1        12000        14000  \n",
       "12         0.2      0.18         1            a         None  "
      ]
     },
     "execution_count": 16,
     "metadata": {},
     "output_type": "execute_result"
    }
   ],
   "source": [
    "df_dist.head(10)"
   ]
  },
  {
   "cell_type": "code",
   "execution_count": 17,
   "id": "1f8a74a6",
   "metadata": {
    "execution": {
     "iopub.execute_input": "2021-09-03T21:39:09.005899Z",
     "iopub.status.busy": "2021-09-03T21:39:09.005143Z",
     "iopub.status.idle": "2021-09-03T21:39:09.008248Z",
     "shell.execute_reply": "2021-09-03T21:39:09.008803Z",
     "shell.execute_reply.started": "2021-09-03T21:32:59.596795Z"
    },
    "papermill": {
     "duration": 0.040339,
     "end_time": "2021-09-03T21:39:09.008974",
     "exception": false,
     "start_time": "2021-09-03T21:39:08.968635",
     "status": "completed"
    },
    "tags": []
   },
   "outputs": [
    {
     "data": {
      "text/plain": [
       "array(['0.18', 'a', '1'], dtype=object)"
      ]
     },
     "execution_count": 17,
     "metadata": {},
     "output_type": "execute_result"
    }
   ],
   "source": [
    "df_dist['ratio_min'].unique()"
   ]
  },
  {
   "cell_type": "markdown",
   "id": "8716f3f3",
   "metadata": {
    "papermill": {
     "duration": 0.028454,
     "end_time": "2021-09-03T21:39:09.065900",
     "exception": false,
     "start_time": "2021-09-03T21:39:09.037446",
     "status": "completed"
    },
    "tags": []
   },
   "source": [
    "### Conclusion \n",
    "The distribution of the engagmend index is averaged around 167.21. \n"
   ]
  },
  {
   "cell_type": "markdown",
   "id": "53df34d2",
   "metadata": {
    "papermill": {
     "duration": 0.02796,
     "end_time": "2021-09-03T21:39:09.122083",
     "exception": false,
     "start_time": "2021-09-03T21:39:09.094123",
     "status": "completed"
    },
    "tags": []
   },
   "source": [
    "The challenge is focussed on answering questions whether the digial learning engaged the students? Alos, does digital learning is beneficial to all group of communites? The notebook explore answering those questions?"
   ]
  },
  {
   "cell_type": "markdown",
   "id": "80153703",
   "metadata": {
    "papermill": {
     "duration": 0.027819,
     "end_time": "2021-09-03T21:39:09.178300",
     "exception": false,
     "start_time": "2021-09-03T21:39:09.150481",
     "status": "completed"
    },
    "tags": []
   },
   "source": [
    "Q1. What is the picture of digital connectivity and engagement in 2020?"
   ]
  },
  {
   "cell_type": "code",
   "execution_count": 18,
   "id": "b4697683",
   "metadata": {
    "execution": {
     "iopub.execute_input": "2021-09-03T21:39:09.239615Z",
     "iopub.status.busy": "2021-09-03T21:39:09.238901Z",
     "iopub.status.idle": "2021-09-03T21:39:09.990974Z",
     "shell.execute_reply": "2021-09-03T21:39:09.991575Z",
     "shell.execute_reply.started": "2021-09-03T21:13:11.584111Z"
    },
    "papermill": {
     "duration": 0.785009,
     "end_time": "2021-09-03T21:39:09.991767",
     "exception": false,
     "start_time": "2021-09-03T21:39:09.206758",
     "status": "completed"
    },
    "tags": []
   },
   "outputs": [],
   "source": [
    "df = df_master.copy()"
   ]
  },
  {
   "cell_type": "code",
   "execution_count": 19,
   "id": "f30c8a2a",
   "metadata": {
    "execution": {
     "iopub.execute_input": "2021-09-03T21:39:10.053140Z",
     "iopub.status.busy": "2021-09-03T21:39:10.052471Z",
     "iopub.status.idle": "2021-09-03T21:39:12.316857Z",
     "shell.execute_reply": "2021-09-03T21:39:12.317379Z",
     "shell.execute_reply.started": "2021-09-03T21:31:57.572879Z"
    },
    "papermill": {
     "duration": 2.296853,
     "end_time": "2021-09-03T21:39:12.317580",
     "exception": false,
     "start_time": "2021-09-03T21:39:10.020727",
     "status": "completed"
    },
    "tags": []
   },
   "outputs": [
    {
     "data": {
      "text/plain": [
       "8292"
      ]
     },
     "execution_count": 19,
     "metadata": {},
     "output_type": "execute_result"
    }
   ],
   "source": [
    "count = df['lp_id'].unique()\n",
    "len(count)"
   ]
  },
  {
   "cell_type": "code",
   "execution_count": 20,
   "id": "ce2ff136",
   "metadata": {
    "execution": {
     "iopub.execute_input": "2021-09-03T21:39:12.380357Z",
     "iopub.status.busy": "2021-09-03T21:39:12.379711Z",
     "iopub.status.idle": "2021-09-03T21:39:12.385146Z",
     "shell.execute_reply": "2021-09-03T21:39:12.385707Z",
     "shell.execute_reply.started": "2021-09-03T21:13:14.867136Z"
    },
    "papermill": {
     "duration": 0.038894,
     "end_time": "2021-09-03T21:39:12.385879",
     "exception": false,
     "start_time": "2021-09-03T21:39:12.346985",
     "status": "completed"
    },
    "tags": []
   },
   "outputs": [],
   "source": [
    "def graph_distribution(df_master):\n",
    "    \n",
    "    #Plotting figure\n",
    "    fig = px.histogram(x = df_demand_supply.index.get_level_values(0), y = df_demand_supply['AvailableMW'], color = df_demand_supply.index.get_level_values(1), labels={'color': \"Technology\"})\n",
    "    fig.update_xaxes(title_text=\"<b>Datetime</b>\")\n",
    "    fig.update_yaxes(title_text=\"<b> Electricity in MW </b>\")\n",
    "   \n",
    "    \n",
    "    #setting graph title\n",
    "    title_text = f'Showing available MW by technologies at a daily frequency for {year} year'\n",
    "    fig.update_layout(title_text= title_text)\n",
    "    \n",
    "    fig.show()"
   ]
  },
  {
   "cell_type": "markdown",
   "id": "41b9c6e2",
   "metadata": {
    "papermill": {
     "duration": 0.030675,
     "end_time": "2021-09-03T21:39:12.445899",
     "exception": false,
     "start_time": "2021-09-03T21:39:12.415224",
     "status": "completed"
    },
    "tags": []
   },
   "source": [
    "#Checking for missing values"
   ]
  }
 ],
 "metadata": {
  "kernelspec": {
   "display_name": "Python 3",
   "language": "python",
   "name": "python3"
  },
  "language_info": {
   "codemirror_mode": {
    "name": "ipython",
    "version": 3
   },
   "file_extension": ".py",
   "mimetype": "text/x-python",
   "name": "python",
   "nbconvert_exporter": "python",
   "pygments_lexer": "ipython3",
   "version": "3.7.10"
  },
  "papermill": {
   "default_parameters": {},
   "duration": 328.920694,
   "end_time": "2021-09-03T21:39:14.695369",
   "environment_variables": {},
   "exception": null,
   "input_path": "__notebook__.ipynb",
   "output_path": "__notebook__.ipynb",
   "parameters": {},
   "start_time": "2021-09-03T21:33:45.774675",
   "version": "2.3.3"
  }
 },
 "nbformat": 4,
 "nbformat_minor": 5
}
